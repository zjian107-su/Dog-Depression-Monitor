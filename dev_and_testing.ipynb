{
 "cells": [
  {
   "cell_type": "markdown",
   "metadata": {},
   "source": [
    "#   New Version"
   ]
  },
  {
   "cell_type": "markdown",
   "metadata": {},
   "source": [
    "### Getting info"
   ]
  },
  {
   "cell_type": "code",
   "execution_count": 6,
   "metadata": {},
   "outputs": [
    {
     "name": "stdout",
     "output_type": "stream",
     "text": [
      "\n",
      "-------MAKING NUMBERS--------\n",
      "\n",
      "['tulips', 'daisy', 'sunflowers', 'daisy', 'dandelion']\n",
      "Counter({'daisy': 2, 'tulips': 1, 'sunflowers': 1, 'dandelion': 1})\n",
      "\n",
      "tulips has value of 1.\n",
      "daisy has value of 2.\n",
      "sunflowers has value of 1.\n",
      "dandelion has value of 1.\n",
      "\n",
      "\n",
      "total: 5\n",
      "\n",
      "type number: 4\n",
      "\n",
      "\n",
      "Percentage of tulips is 0.2.\n",
      "Percentage of daisy is 0.4.\n",
      "Percentage of sunflowers is 0.2.\n",
      "Percentage of dandelion is 0.2.\n"
     ]
    }
   ],
   "source": [
    "#New Version\n",
    "from collections import Counter\n",
    "\n",
    "\n",
    "print(\"\\n-------MAKING NUMBERS--------\\n\")\n",
    "#Read saved files\n",
    "with open(\"resultSave.txt\", \"r\") as f:\n",
    "    text=f.read()\n",
    "    #print(text)\n",
    "\n",
    "#Make string into list    \n",
    "textList=text.split(\", \")\n",
    "\n",
    "#delete the last item which is \" \"\n",
    "del textList[-1]\n",
    "print(textList)\n",
    "\n",
    "flowerTypeList = textList\n",
    "countDic=Counter(flowerTypeList) #imported module\n",
    "print(countDic)\n",
    "print(\"\")\n",
    "\n",
    "#show all keys & values\n",
    "total=0\n",
    "typeNumber=0\n",
    "for key in countDic:\n",
    "    total += countDic[key]\n",
    "    print(\"%s has value of %s.\"%(key,str(countDic[key])))\n",
    "    typeNumber += 1\n",
    "    \n",
    "\n",
    "#show total\n",
    "print(\"\\n\")\n",
    "print('total: '+ str(total))\n",
    "print('')\n",
    "print(\"type number: \"+ str(typeNumber))\n",
    "print(\"\\n\")\n",
    "\n",
    "#show all values\n",
    "\n",
    "\n",
    "for key in countDic:\n",
    "    print(\"Percentage of %s is %s.\" %(key,str((countDic[key]/total))))\n"
   ]
  },
  {
   "cell_type": "markdown",
   "metadata": {},
   "source": [
    "### Makeing Charts"
   ]
  },
  {
   "cell_type": "code",
   "execution_count": 7,
   "metadata": {},
   "outputs": [
    {
     "name": "stdout",
     "output_type": "stream",
     "text": [
      "\n",
      "-------MAKING CHARTS--------\n",
      "\n",
      "['tulips', 'daisy', 'sunflowers', 'dandelion']\n",
      "['0.2', '0.4', '0.2', '0.2']\n",
      "['yellowgreen', 'gold', 'lightskyblue', 'lightcoral']\n",
      "[0, 0, 0, 0]\n"
     ]
    },
    {
     "data": {
      "image/png": "[encoded data removed]",
      "text/plain": [
       "<Figure size 432x288 with 1 Axes>"
      ]
     },
     "metadata": {},
     "output_type": "display_data"
    }
   ],
   "source": [
    "import matplotlib.pyplot as plt\n",
    "\n",
    "print(\"\\n-------MAKING CHARTS--------\\n\")\n",
    "colorList=['yellowgreen', 'gold', 'lightskyblue', 'lightcoral','black','green','pink',]\n",
    "labels = []\n",
    "sizes =[]\n",
    "colors = []\n",
    "explode = []\n",
    "\n",
    "#append in lables & sizes\n",
    "loopNumber=0\n",
    "for key in countDic:\n",
    "    labels.append(key)\n",
    "    sizes.append(str((countDic[key]/total)))\n",
    "    colors.append(colorList[loopNumber])\n",
    "    explode.append(0)\n",
    "    loopNumber += 1\n",
    "\n",
    "'''\n",
    "    print(labels)\n",
    "    print(sizes)\n",
    "    print(colors)\n",
    "    print(explode)\n",
    "'''    \n",
    "\n",
    "plt.pie(sizes, explode=explode, labels=labels, colors=colors,\n",
    "autopct='%1.1f%%', shadow=True, startangle=140)\n",
    "\n",
    "plt.axis('equal')\n",
    "plt.show()\n"
   ]
  },
  {
   "cell_type": "markdown",
   "metadata": {},
   "source": [
    "# Combo --- all corrections happen here"
   ]
  },
  {
   "cell_type": "code",
   "execution_count": 14,
   "metadata": {},
   "outputs": [
    {
     "name": "stdout",
     "output_type": "stream",
     "text": [
      "\n",
      "-------MAKING NUMBERS--------------------------\n",
      "\n",
      "['tulips', 'daisy', 'sunflowers', 'daisy', 'dandelion']\n",
      "Counter({'daisy': 2, 'tulips': 1, 'sunflowers': 1, 'dandelion': 1})\n",
      "\n",
      "tulips has value of 1.\n",
      "daisy has value of 2.\n",
      "sunflowers has value of 1.\n",
      "dandelion has value of 1.\n",
      "\n",
      "Percentage of tulips is 0.2.\n",
      "Percentage of daisy is 0.4.\n",
      "Percentage of sunflowers is 0.2.\n",
      "Percentage of dandelion is 0.2.\n",
      "\n",
      "\n",
      "--Total: 5\n",
      "\n",
      "--Type number: 4\n",
      "\n",
      "\n",
      "\n",
      "-------MAKING CHARTS--------------------------\n",
      "\n"
     ]
    },
    {
     "data": {
      "image/png": "[encoded data removed]",
      "text/plain": [
       "<Figure size 432x288 with 1 Axes>"
      ]
     },
     "metadata": {},
     "output_type": "display_data"
    }
   ],
   "source": [
    "#New Version\n",
    "from collections import Counter\n",
    "import matplotlib.pyplot as plt\n",
    "\n",
    "print(\"\\n-------MAKING NUMBERS--------------------------\\n\")\n",
    "#Read saved files\n",
    "with open(\"resultSave.txt\", \"r\") as f:\n",
    "    text=f.read()\n",
    "    #print(text)\n",
    "\n",
    "#Make string into list    \n",
    "textList=text.split(\", \")\n",
    "\n",
    "#delete the last item which is \" \"\n",
    "del textList[-1]\n",
    "print(textList)\n",
    "\n",
    "flowerTypeList = textList\n",
    "countDic=Counter(flowerTypeList) #imported module\n",
    "print(countDic)\n",
    "print(\"\")\n",
    "\n",
    "#show all keys & values\n",
    "total=0\n",
    "typeNumber=0\n",
    "for key in countDic:\n",
    "    total += countDic[key]\n",
    "    print(\"%s has value of %s.\"%(key,str(countDic[key])))\n",
    "    typeNumber += 1\n",
    "\n",
    "print('')\n",
    "    \n",
    "\n",
    "\n",
    "\n",
    "#show all values\n",
    "for key in countDic:\n",
    "    print(\"Percentage of %s is %s.\" %(key,str((countDic[key]/total))))\n",
    "    \n",
    "    \n",
    "\n",
    "#show total\n",
    "print(\"\\n\")\n",
    "print('--Total: '+ str(total))\n",
    "print('')\n",
    "print(\"--Type number: \"+ str(typeNumber))\n",
    "print(\"\\n\")\n",
    "    \n",
    "    \n",
    "\n",
    "print(\"\\n-------MAKING CHARTS--------------------------\\n\")\n",
    "colorList=['yellowgreen', 'gold', 'lightskyblue', 'lightcoral','black','green','pink',]\n",
    "labels = []\n",
    "sizes =[]\n",
    "colors = []\n",
    "explode = []\n",
    "\n",
    "#append in lables & sizes\n",
    "loopNumber=0\n",
    "for key in countDic:\n",
    "    labels.append(key)\n",
    "    sizes.append(str((countDic[key]/total)))\n",
    "    colors.append(colorList[loopNumber])\n",
    "    explode.append(0)\n",
    "    loopNumber += 1\n",
    "\n",
    "'''\n",
    "    print(labels)\n",
    "    print(sizes)\n",
    "    print(colors)\n",
    "    print(explode)\n",
    "'''  \n",
    "\n",
    "\n",
    "plt.pie(sizes, explode=explode, labels=labels, colors=colors,\n",
    "autopct='%1.1f%%', shadow=True, startangle=140)\n",
    "\n",
    "plt.axis('equal')\n",
    "plt.show()"
   ]
  },
  {
   "cell_type": "markdown",
   "metadata": {},
   "source": [
    "# Extremely Version - Only Conclusion"
   ]
  },
  {
   "cell_type": "code",
   "execution_count": 15,
   "metadata": {},
   "outputs": [
    {
     "name": "stdout",
     "output_type": "stream",
     "text": [
      "\n",
      "-------MAKING NUMBERS--------\n",
      "\n",
      "['tulips', 'daisy', 'sunflowers', 'daisy', 'dandelion']\n",
      "Counter({'daisy': 2, 'tulips': 1, 'sunflowers': 1, 'dandelion': 1})\n",
      "\n",
      "\n",
      "-------MAKING CHARTS--------\n",
      "\n"
     ]
    },
    {
     "data": {
      "image/png": "[encoded data removed]",
      "text/plain": [
       "<Figure size 432x288 with 1 Axes>"
      ]
     },
     "metadata": {},
     "output_type": "display_data"
    }
   ],
   "source": [
    "#New Version\n",
    "from collections import Counter\n",
    "import matplotlib.pyplot as plt\n",
    "\n",
    "print(\"\\n-------MAKING NUMBERS--------\\n\")\n",
    "#Read saved files\n",
    "with open(\"resultSave.txt\", \"r\") as f:\n",
    "    text=f.read()\n",
    "    #print(text)\n",
    "\n",
    "#Make string into list    \n",
    "textList=text.split(\", \")\n",
    "\n",
    "#delete the last item which is \" \"\n",
    "del textList[-1]\n",
    "print(textList)\n",
    "\n",
    "flowerTypeList = textList\n",
    "countDic=Counter(flowerTypeList) #imported module\n",
    "print(countDic)\n",
    "print(\"\")\n",
    "\n",
    "#show all keys & values\n",
    "total=0\n",
    "typeNumber=0\n",
    "for key in countDic:\n",
    "    total += countDic[key]\n",
    "    #print(\"%s has value of %s.\"%(key,str(countDic[key])))\n",
    "    typeNumber += 1\n",
    "    \n",
    "'''\n",
    "    #show total\n",
    "    print(\"\\n\")\n",
    "    print('total: '+ str(total))\n",
    "    print('')\n",
    "    print(\"type number: \"+ str(typeNumber))\n",
    "    print(\"\\n\")\n",
    "'''\n",
    "\n",
    "#show all values\n",
    "\n",
    "'''\n",
    "    for key in countDic:\n",
    "        print(\"Percentage of %s is %s.\" %(key,str((countDic[key]/total))))\n",
    "'''   \n",
    "    \n",
    "\n",
    "print(\"\\n-------MAKING CHARTS--------\\n\")\n",
    "colorList=['yellowgreen', 'gold', 'lightskyblue', 'lightcoral','black','green','pink',]\n",
    "labels = []\n",
    "sizes =[]\n",
    "colors = []\n",
    "explode = []\n",
    "\n",
    "#append in lables & sizes\n",
    "loopNumber=0\n",
    "for key in countDic:\n",
    "    labels.append(key)\n",
    "    sizes.append(str((countDic[key]/total)))\n",
    "    colors.append(colorList[loopNumber])\n",
    "    explode.append(0)\n",
    "    loopNumber += 1\n",
    "\n",
    "'''   \n",
    "    print(labels)\n",
    "    print(sizes)\n",
    "    print(colors)\n",
    "    print(explode)\n",
    "''' \n",
    "\n",
    "\n",
    "plt.pie(sizes, explode=explode, labels=labels, colors=colors,\n",
    "autopct='%1.1f%%', shadow=True, startangle=140)\n",
    "\n",
    "plt.axis('equal')\n",
    "plt.show()"
   ]
  },
  {
   "cell_type": "code",
   "execution_count": null,
   "metadata": {},
   "outputs": [],
   "source": []
  },
  {
   "cell_type": "code",
   "execution_count": null,
   "metadata": {},
   "outputs": [],
   "source": []
  }
 ],
 "metadata": {
  "kernelspec": {
   "display_name": "Python 3",
   "language": "python",
   "name": "python3"
  },
  "language_info": {
   "codemirror_mode": {
    "name": "ipython",
    "version": 3
   },
   "file_extension": ".py",
   "mimetype": "text/x-python",
   "name": "python",
   "nbconvert_exporter": "python",
   "pygments_lexer": "ipython3",
   "version": "3.6.6"
  }
 },
 "nbformat": 4,
 "nbformat_minor": 2
}
